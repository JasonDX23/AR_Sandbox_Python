{
 "cells": [
  {
   "cell_type": "code",
   "execution_count": 1,
   "metadata": {},
   "outputs": [],
   "source": [
    "import os,sys\n",
    "sys.path.append('../../')"
   ]
  },
  {
   "cell_type": "markdown",
   "metadata": {
    "pycharm": {
     "name": "#%% md\n"
    }
   },
   "source": [
    "### Download datasets using Pooch\n",
    "\n",
    "You can choose which dataset to download"
   ]
  },
  {
   "cell_type": "code",
   "execution_count": 2,
   "metadata": {
    "pycharm": {
     "name": "#%%\n"
    }
   },
   "outputs": [],
   "source": [
    "from sandbox.utils.download_sample_datasets import *"
   ]
  },
  {
   "cell_type": "code",
   "execution_count": 3,
   "metadata": {},
   "outputs": [
    {
     "name": "stdout",
     "output_type": "stream",
     "text": [
      "Available gempy data: (['model1_orientations.csv', 'model1_surface_points.csv', 'model2_orientations.csv', 'model2_surface_points.csv', 'model3_orientations.csv', 'model3_surface_points.csv', 'model4_orientations.csv', 'model4_surface_points.csv', 'model5_orientations.csv', 'model5_surface_points.csv', 'model6_orientations.csv', 'model6_surface_points.csv', 'model7_orientations.csv', 'model7_surface_points.csv'], ['foliations7.csv', 'interfaces7.csv'])\n",
      "\u001b[32msandbox.utils.download_sample_datasets: INFO\u001b[0m | Pooch created for url: https://raw.githubusercontent.com/cgre-aachen/gempy_data/master/data/input_data/jan_models/\n",
      "\u001b[32msandbox.utils.download_sample_datasets: INFO\u001b[0m | Pooch created for url: https://raw.githubusercontent.com/cgre-aachen/gempy_data/master/data/input_data/lisa_models/\n",
      "\u001b[32msandbox.utils.download_sample_datasets: INFO\u001b[0m | Data for gempy example models downloaded\n"
     ]
    }
   ],
   "source": [
    "print('Available gempy data: {}'.format((gempy_example_models, gempy_example_models2)))\n",
    "\n",
    "download_example_gempy_model()"
   ]
  },
  {
   "cell_type": "code",
   "execution_count": 3,
   "metadata": {
    "pycharm": {
     "name": "#%%\n"
    },
    "scrolled": true
   },
   "outputs": [
    {
     "name": "stdout",
     "output_type": "stream",
     "text": [
      "Available test data: ['arucos.pkl', 'frame1.npz', 'frame2.npz', 'frame3.npz', 'frame4.npz']\n",
      "\u001b[32msandbox.utils.download_sample_datasets: INFO\u001b[0m | Pooch created for url: https://rwth-aachen.sciebo.de/s/oKxBxb1oGW2ZsoC/download?path=%2FTests&files=\n"
     ]
    },
    {
     "name": "stderr",
     "output_type": "stream",
     "text": [
      "Downloading file 'arucos.pkl' from 'https://rwth-aachen.sciebo.de/s/oKxBxb1oGW2ZsoC/download?path=%2FTests&files=arucos.pkl' to '/home/daniel/GitProjets/open_AR_Sandbox/tests/test_data'.\n",
      "100%|██████████████████████████████████████| 1.24k/1.24k [00:00<00:00, 122kB/s]\n",
      "Downloading file 'frame1.npz' from 'https://rwth-aachen.sciebo.de/s/oKxBxb1oGW2ZsoC/download?path=%2FTests&files=frame1.npz' to '/home/daniel/GitProjets/open_AR_Sandbox/tests/test_data'.\n",
      "100%|██████████████████████████████████████| 6.67M/6.67M [00:00<00:00, 944MB/s]\n",
      "Downloading file 'frame2.npz' from 'https://rwth-aachen.sciebo.de/s/oKxBxb1oGW2ZsoC/download?path=%2FTests&files=frame2.npz' to '/home/daniel/GitProjets/open_AR_Sandbox/tests/test_data'.\n",
      "100%|█████████████████████████████████████| 6.67M/6.67M [00:00<00:00, 1.23GB/s]\n",
      "Downloading file 'frame3.npz' from 'https://rwth-aachen.sciebo.de/s/oKxBxb1oGW2ZsoC/download?path=%2FTests&files=frame3.npz' to '/home/daniel/GitProjets/open_AR_Sandbox/tests/test_data'.\n",
      "100%|██████████████████████████████████████| 6.67M/6.67M [00:00<00:00, 720MB/s]\n",
      "Downloading file 'frame4.npz' from 'https://rwth-aachen.sciebo.de/s/oKxBxb1oGW2ZsoC/download?path=%2FTests&files=frame4.npz' to '/home/daniel/GitProjets/open_AR_Sandbox/tests/test_data'.\n",
      "100%|██████████████████████████████████████| 6.67M/6.67M [00:00<00:00, 942MB/s]\n"
     ]
    },
    {
     "name": "stdout",
     "output_type": "stream",
     "text": [
      "\u001b[32msandbox.utils.download_sample_datasets: INFO\u001b[0m | Data for testing downloaded\n"
     ]
    }
   ],
   "source": [
    "print('Available test data: {}'.format(tests))\n",
    "\n",
    "download_test_data()"
   ]
  },
  {
   "cell_type": "code",
   "execution_count": 4,
   "metadata": {
    "pycharm": {
     "name": "#%%\n"
    },
    "scrolled": true
   },
   "outputs": [
    {
     "name": "stdout",
     "output_type": "stream",
     "text": [
      "Available topography data: ['1.npz', '2.npz', '3.npz', '4.npz', 'DEM1.npz', 'DEM10.npz', 'DEM11.npz', 'DEM2.npz', 'DEM3.npz', 'DEM4.npz', 'DEM5.npz', 'DEM6.npz', 'DEM7.npz', 'DEM8.npz', 'DEM9.npz', 'Landslide_test_1.npz', 'bennisson_raster_DEM_04.npy', 'savedTopography.npz', 'test.npz']\n",
      "\u001b[32msandbox.utils.download_sample_datasets: INFO\u001b[0m | Pooch created for url: https://rwth-aachen.sciebo.de/s/oKxBxb1oGW2ZsoC/download?path=%2FTopoModule%2Fsaved_DEMs&files=\n"
     ]
    },
    {
     "name": "stderr",
     "output_type": "stream",
     "text": [
      "Downloading file '1.npz' from 'https://rwth-aachen.sciebo.de/s/oKxBxb1oGW2ZsoC/download?path=%2FTopoModule%2Fsaved_DEMs&files=1.npz' to '/home/daniel/GitProjets/open_AR_Sandbox/notebooks/tutorials/06_LoadSaveTopoModule/saved_DEMs'.\n",
      "100%|████████████████████████████████████████| 801k/801k [00:00<00:00, 120MB/s]\n",
      "Downloading file '2.npz' from 'https://rwth-aachen.sciebo.de/s/oKxBxb1oGW2ZsoC/download?path=%2FTopoModule%2Fsaved_DEMs&files=2.npz' to '/home/daniel/GitProjets/open_AR_Sandbox/notebooks/tutorials/06_LoadSaveTopoModule/saved_DEMs'.\n",
      "100%|████████████████████████████████████████| 801k/801k [00:00<00:00, 140MB/s]\n",
      "Downloading file '3.npz' from 'https://rwth-aachen.sciebo.de/s/oKxBxb1oGW2ZsoC/download?path=%2FTopoModule%2Fsaved_DEMs&files=3.npz' to '/home/daniel/GitProjets/open_AR_Sandbox/notebooks/tutorials/06_LoadSaveTopoModule/saved_DEMs'.\n",
      "100%|███████████████████████████████████████| 801k/801k [00:00<00:00, 50.4MB/s]\n",
      "Downloading file '4.npz' from 'https://rwth-aachen.sciebo.de/s/oKxBxb1oGW2ZsoC/download?path=%2FTopoModule%2Fsaved_DEMs&files=4.npz' to '/home/daniel/GitProjets/open_AR_Sandbox/notebooks/tutorials/06_LoadSaveTopoModule/saved_DEMs'.\n",
      "100%|████████████████████████████████████████| 801k/801k [00:00<00:00, 143MB/s]\n",
      "Downloading file 'DEM1.npz' from 'https://rwth-aachen.sciebo.de/s/oKxBxb1oGW2ZsoC/download?path=%2FTopoModule%2Fsaved_DEMs&files=DEM1.npz' to '/home/daniel/GitProjets/open_AR_Sandbox/notebooks/tutorials/06_LoadSaveTopoModule/saved_DEMs'.\n",
      "100%|███████████████████████████████████████| 481k/481k [00:00<00:00, 86.5MB/s]\n",
      "Downloading file 'DEM10.npz' from 'https://rwth-aachen.sciebo.de/s/oKxBxb1oGW2ZsoC/download?path=%2FTopoModule%2Fsaved_DEMs&files=DEM10.npz' to '/home/daniel/GitProjets/open_AR_Sandbox/notebooks/tutorials/06_LoadSaveTopoModule/saved_DEMs'.\n",
      "100%|███████████████████████████████████████| 481k/481k [00:00<00:00, 84.5MB/s]\n",
      "Downloading file 'DEM11.npz' from 'https://rwth-aachen.sciebo.de/s/oKxBxb1oGW2ZsoC/download?path=%2FTopoModule%2Fsaved_DEMs&files=DEM11.npz' to '/home/daniel/GitProjets/open_AR_Sandbox/notebooks/tutorials/06_LoadSaveTopoModule/saved_DEMs'.\n",
      "100%|████████████████████████████████████████| 481k/481k [00:00<00:00, 101MB/s]\n",
      "Downloading file 'DEM2.npz' from 'https://rwth-aachen.sciebo.de/s/oKxBxb1oGW2ZsoC/download?path=%2FTopoModule%2Fsaved_DEMs&files=DEM2.npz' to '/home/daniel/GitProjets/open_AR_Sandbox/notebooks/tutorials/06_LoadSaveTopoModule/saved_DEMs'.\n",
      "100%|███████████████████████████████████████| 481k/481k [00:00<00:00, 61.5MB/s]\n",
      "Downloading file 'DEM3.npz' from 'https://rwth-aachen.sciebo.de/s/oKxBxb1oGW2ZsoC/download?path=%2FTopoModule%2Fsaved_DEMs&files=DEM3.npz' to '/home/daniel/GitProjets/open_AR_Sandbox/notebooks/tutorials/06_LoadSaveTopoModule/saved_DEMs'.\n",
      "100%|███████████████████████████████████████| 481k/481k [00:00<00:00, 60.7MB/s]\n",
      "Downloading file 'DEM4.npz' from 'https://rwth-aachen.sciebo.de/s/oKxBxb1oGW2ZsoC/download?path=%2FTopoModule%2Fsaved_DEMs&files=DEM4.npz' to '/home/daniel/GitProjets/open_AR_Sandbox/notebooks/tutorials/06_LoadSaveTopoModule/saved_DEMs'.\n",
      "100%|███████████████████████████████████████| 481k/481k [00:00<00:00, 87.8MB/s]\n",
      "Downloading file 'DEM5.npz' from 'https://rwth-aachen.sciebo.de/s/oKxBxb1oGW2ZsoC/download?path=%2FTopoModule%2Fsaved_DEMs&files=DEM5.npz' to '/home/daniel/GitProjets/open_AR_Sandbox/notebooks/tutorials/06_LoadSaveTopoModule/saved_DEMs'.\n",
      "100%|███████████████████████████████████████| 481k/481k [00:00<00:00, 69.4MB/s]\n",
      "Downloading file 'DEM6.npz' from 'https://rwth-aachen.sciebo.de/s/oKxBxb1oGW2ZsoC/download?path=%2FTopoModule%2Fsaved_DEMs&files=DEM6.npz' to '/home/daniel/GitProjets/open_AR_Sandbox/notebooks/tutorials/06_LoadSaveTopoModule/saved_DEMs'.\n",
      "100%|███████████████████████████████████████| 481k/481k [00:00<00:00, 96.4MB/s]\n",
      "Downloading file 'DEM7.npz' from 'https://rwth-aachen.sciebo.de/s/oKxBxb1oGW2ZsoC/download?path=%2FTopoModule%2Fsaved_DEMs&files=DEM7.npz' to '/home/daniel/GitProjets/open_AR_Sandbox/notebooks/tutorials/06_LoadSaveTopoModule/saved_DEMs'.\n",
      "100%|███████████████████████████████████████| 481k/481k [00:00<00:00, 81.1MB/s]\n",
      "Downloading file 'DEM8.npz' from 'https://rwth-aachen.sciebo.de/s/oKxBxb1oGW2ZsoC/download?path=%2FTopoModule%2Fsaved_DEMs&files=DEM8.npz' to '/home/daniel/GitProjets/open_AR_Sandbox/notebooks/tutorials/06_LoadSaveTopoModule/saved_DEMs'.\n",
      "100%|███████████████████████████████████████| 481k/481k [00:00<00:00, 56.0MB/s]\n",
      "Downloading file 'DEM9.npz' from 'https://rwth-aachen.sciebo.de/s/oKxBxb1oGW2ZsoC/download?path=%2FTopoModule%2Fsaved_DEMs&files=DEM9.npz' to '/home/daniel/GitProjets/open_AR_Sandbox/notebooks/tutorials/06_LoadSaveTopoModule/saved_DEMs'.\n",
      "100%|███████████████████████████████████████| 481k/481k [00:00<00:00, 29.5MB/s]\n",
      "Downloading file 'Landslide_test_1.npz' from 'https://rwth-aachen.sciebo.de/s/oKxBxb1oGW2ZsoC/download?path=%2FTopoModule%2Fsaved_DEMs&files=Landslide_test_1.npz' to '/home/daniel/GitProjets/open_AR_Sandbox/notebooks/tutorials/06_LoadSaveTopoModule/saved_DEMs'.\n",
      "100%|███████████████████████████████████████| 481k/481k [00:00<00:00, 94.5MB/s]\n",
      "Downloading file 'bennisson_raster_DEM_04.npy' from 'https://rwth-aachen.sciebo.de/s/oKxBxb1oGW2ZsoC/download?path=%2FTopoModule%2Fsaved_DEMs&files=bennisson_raster_DEM_04.npy' to '/home/daniel/GitProjets/open_AR_Sandbox/notebooks/tutorials/06_LoadSaveTopoModule/saved_DEMs'.\n",
      "100%|██████████████████████████████████████| 15.2M/15.2M [00:00<00:00, 912MB/s]\n",
      "Downloading file 'savedTopography.npz' from 'https://rwth-aachen.sciebo.de/s/oKxBxb1oGW2ZsoC/download?path=%2FTopoModule%2Fsaved_DEMs&files=savedTopography.npz' to '/home/daniel/GitProjets/open_AR_Sandbox/notebooks/tutorials/06_LoadSaveTopoModule/saved_DEMs'.\n",
      "100%|███████████████████████████████████████| 481k/481k [00:00<00:00, 58.5MB/s]\n",
      "Downloading file 'test.npz' from 'https://rwth-aachen.sciebo.de/s/oKxBxb1oGW2ZsoC/download?path=%2FTopoModule%2Fsaved_DEMs&files=test.npz' to '/home/daniel/GitProjets/open_AR_Sandbox/notebooks/tutorials/06_LoadSaveTopoModule/saved_DEMs'.\n",
      "100%|███████████████████████████████████████| 481k/481k [00:00<00:00, 26.3MB/s]"
     ]
    },
    {
     "name": "stdout",
     "output_type": "stream",
     "text": [
      "\u001b[32msandbox.utils.download_sample_datasets: INFO\u001b[0m | Data for topography downloaded\n"
     ]
    },
    {
     "name": "stderr",
     "output_type": "stream",
     "text": [
      "\n"
     ]
    }
   ],
   "source": [
    "print('Available topography data: {}'.format(topomodule_files))\n",
    "\n",
    "download_topography_data()"
   ]
  },
  {
   "cell_type": "code",
   "execution_count": 5,
   "metadata": {
    "pycharm": {
     "name": "#%%\n"
    }
   },
   "outputs": [
    {
     "name": "stdout",
     "output_type": "stream",
     "text": [
      "Available landslide data: ['Topography_0.npz', 'Topography_1.npz', 'Topography_2.npz', 'Topography_3.npz', 'Topography_4.npz']\n",
      "\u001b[32msandbox.utils.download_sample_datasets: INFO\u001b[0m | Pooch created for url: https://rwth-aachen.sciebo.de/s/oKxBxb1oGW2ZsoC/download?path=%2FLanslideSimulation%2Fsaved_DEMs&files=\n",
      "\u001b[32msandbox.utils.download_sample_datasets: INFO\u001b[0m | Pooch created for url: https://rwth-aachen.sciebo.de/s/oKxBxb1oGW2ZsoC/download?path=%2FLanslideSimulation%2Fsaved_ReleaseAreas&files=\n",
      "\u001b[32msandbox.utils.download_sample_datasets: INFO\u001b[0m | Pooch created for url: https://rwth-aachen.sciebo.de/s/oKxBxb1oGW2ZsoC/download?path=%2FLanslideSimulation%2Fsimulation_data&files=\n"
     ]
    },
    {
     "name": "stderr",
     "output_type": "stream",
     "text": [
      "Downloading file 'Topography_0.npz' from 'https://rwth-aachen.sciebo.de/s/oKxBxb1oGW2ZsoC/download?path=%2FLanslideSimulation%2Fsaved_DEMs&files=Topography_0.npz' to '/home/daniel/GitProjets/open_AR_Sandbox/notebooks/tutorials/07_LandslideSimulation/saved_DEMs'.\n",
      "100%|███████████████████████████████████████| 481k/481k [00:00<00:00, 27.4MB/s]\n",
      "Downloading file 'Topography_1.npz' from 'https://rwth-aachen.sciebo.de/s/oKxBxb1oGW2ZsoC/download?path=%2FLanslideSimulation%2Fsaved_DEMs&files=Topography_1.npz' to '/home/daniel/GitProjets/open_AR_Sandbox/notebooks/tutorials/07_LandslideSimulation/saved_DEMs'.\n",
      "100%|███████████████████████████████████████| 481k/481k [00:00<00:00, 89.5MB/s]\n",
      "Downloading file 'Topography_2.npz' from 'https://rwth-aachen.sciebo.de/s/oKxBxb1oGW2ZsoC/download?path=%2FLanslideSimulation%2Fsaved_DEMs&files=Topography_2.npz' to '/home/daniel/GitProjets/open_AR_Sandbox/notebooks/tutorials/07_LandslideSimulation/saved_DEMs'.\n",
      "100%|███████████████████████████████████████| 481k/481k [00:00<00:00, 29.0MB/s]\n",
      "Downloading file 'Topography_3.npz' from 'https://rwth-aachen.sciebo.de/s/oKxBxb1oGW2ZsoC/download?path=%2FLanslideSimulation%2Fsaved_DEMs&files=Topography_3.npz' to '/home/daniel/GitProjets/open_AR_Sandbox/notebooks/tutorials/07_LandslideSimulation/saved_DEMs'.\n",
      "100%|███████████████████████████████████████| 481k/481k [00:00<00:00, 81.1MB/s]\n",
      "Downloading file 'Topography_4.npz' from 'https://rwth-aachen.sciebo.de/s/oKxBxb1oGW2ZsoC/download?path=%2FLanslideSimulation%2Fsaved_DEMs&files=Topography_4.npz' to '/home/daniel/GitProjets/open_AR_Sandbox/notebooks/tutorials/07_LandslideSimulation/saved_DEMs'.\n",
      "100%|███████████████████████████████████████| 481k/481k [00:00<00:00, 42.7MB/s]\n",
      "Downloading file 'ReleaseArea_0_1.npy' from 'https://rwth-aachen.sciebo.de/s/oKxBxb1oGW2ZsoC/download?path=%2FLanslideSimulation%2Fsaved_ReleaseAreas&files=ReleaseArea_0_1.npy' to '/home/daniel/GitProjets/open_AR_Sandbox/notebooks/tutorials/07_LandslideSimulation/saved_ReleaseAreas'.\n",
      "100%|█████████████████████████████████████████| 192/192 [00:00<00:00, 11.9kB/s]\n",
      "Downloading file 'ReleaseArea_1_1.npy' from 'https://rwth-aachen.sciebo.de/s/oKxBxb1oGW2ZsoC/download?path=%2FLanslideSimulation%2Fsaved_ReleaseAreas&files=ReleaseArea_1_1.npy' to '/home/daniel/GitProjets/open_AR_Sandbox/notebooks/tutorials/07_LandslideSimulation/saved_ReleaseAreas'.\n",
      "100%|█████████████████████████████████████████| 192/192 [00:00<00:00, 12.8kB/s]\n",
      "Downloading file 'ReleaseArea_1_2.npy' from 'https://rwth-aachen.sciebo.de/s/oKxBxb1oGW2ZsoC/download?path=%2FLanslideSimulation%2Fsaved_ReleaseAreas&files=ReleaseArea_1_2.npy' to '/home/daniel/GitProjets/open_AR_Sandbox/notebooks/tutorials/07_LandslideSimulation/saved_ReleaseAreas'.\n",
      "100%|█████████████████████████████████████████| 192/192 [00:00<00:00, 13.8kB/s]\n",
      "Downloading file 'ReleaseArea_1_3.npy' from 'https://rwth-aachen.sciebo.de/s/oKxBxb1oGW2ZsoC/download?path=%2FLanslideSimulation%2Fsaved_ReleaseAreas&files=ReleaseArea_1_3.npy' to '/home/daniel/GitProjets/open_AR_Sandbox/notebooks/tutorials/07_LandslideSimulation/saved_ReleaseAreas'.\n",
      "100%|█████████████████████████████████████████| 192/192 [00:00<00:00, 17.1kB/s]\n",
      "Downloading file 'ReleaseArea_2_1.npy' from 'https://rwth-aachen.sciebo.de/s/oKxBxb1oGW2ZsoC/download?path=%2FLanslideSimulation%2Fsaved_ReleaseAreas&files=ReleaseArea_2_1.npy' to '/home/daniel/GitProjets/open_AR_Sandbox/notebooks/tutorials/07_LandslideSimulation/saved_ReleaseAreas'.\n",
      "100%|█████████████████████████████████████████| 192/192 [00:00<00:00, 29.9kB/s]\n",
      "Downloading file 'ReleaseArea_2_2.npy' from 'https://rwth-aachen.sciebo.de/s/oKxBxb1oGW2ZsoC/download?path=%2FLanslideSimulation%2Fsaved_ReleaseAreas&files=ReleaseArea_2_2.npy' to '/home/daniel/GitProjets/open_AR_Sandbox/notebooks/tutorials/07_LandslideSimulation/saved_ReleaseAreas'.\n",
      "100%|█████████████████████████████████████████| 192/192 [00:00<00:00, 23.0kB/s]\n",
      "Downloading file 'ReleaseArea_2_3.npy' from 'https://rwth-aachen.sciebo.de/s/oKxBxb1oGW2ZsoC/download?path=%2FLanslideSimulation%2Fsaved_ReleaseAreas&files=ReleaseArea_2_3.npy' to '/home/daniel/GitProjets/open_AR_Sandbox/notebooks/tutorials/07_LandslideSimulation/saved_ReleaseAreas'.\n",
      "100%|█████████████████████████████████████████| 192/192 [00:00<00:00, 9.31kB/s]\n",
      "Downloading file 'ReleaseArea_3_1.npy' from 'https://rwth-aachen.sciebo.de/s/oKxBxb1oGW2ZsoC/download?path=%2FLanslideSimulation%2Fsaved_ReleaseAreas&files=ReleaseArea_3_1.npy' to '/home/daniel/GitProjets/open_AR_Sandbox/notebooks/tutorials/07_LandslideSimulation/saved_ReleaseAreas'.\n",
      "100%|█████████████████████████████████████████| 192/192 [00:00<00:00, 31.9kB/s]\n",
      "Downloading file 'ReleaseArea_3_2.npy' from 'https://rwth-aachen.sciebo.de/s/oKxBxb1oGW2ZsoC/download?path=%2FLanslideSimulation%2Fsaved_ReleaseAreas&files=ReleaseArea_3_2.npy' to '/home/daniel/GitProjets/open_AR_Sandbox/notebooks/tutorials/07_LandslideSimulation/saved_ReleaseAreas'.\n",
      "100%|█████████████████████████████████████████| 192/192 [00:00<00:00, 10.5kB/s]\n",
      "Downloading file 'ReleaseArea_3_3.npy' from 'https://rwth-aachen.sciebo.de/s/oKxBxb1oGW2ZsoC/download?path=%2FLanslideSimulation%2Fsaved_ReleaseAreas&files=ReleaseArea_3_3.npy' to '/home/daniel/GitProjets/open_AR_Sandbox/notebooks/tutorials/07_LandslideSimulation/saved_ReleaseAreas'.\n",
      "100%|█████████████████████████████████████████| 192/192 [00:00<00:00, 25.3kB/s]\n",
      "Downloading file 'ReleaseArea_4_1.npy' from 'https://rwth-aachen.sciebo.de/s/oKxBxb1oGW2ZsoC/download?path=%2FLanslideSimulation%2Fsaved_ReleaseAreas&files=ReleaseArea_4_1.npy' to '/home/daniel/GitProjets/open_AR_Sandbox/notebooks/tutorials/07_LandslideSimulation/saved_ReleaseAreas'.\n",
      "100%|█████████████████████████████████████████| 192/192 [00:00<00:00, 9.27kB/s]\n",
      "Downloading file 'ReleaseArea_4_2.npy' from 'https://rwth-aachen.sciebo.de/s/oKxBxb1oGW2ZsoC/download?path=%2FLanslideSimulation%2Fsaved_ReleaseAreas&files=ReleaseArea_4_2.npy' to '/home/daniel/GitProjets/open_AR_Sandbox/notebooks/tutorials/07_LandslideSimulation/saved_ReleaseAreas'.\n",
      "100%|█████████████████████████████████████████| 192/192 [00:00<00:00, 32.6kB/s]\n",
      "Downloading file 'ReleaseArea_4_3.npy' from 'https://rwth-aachen.sciebo.de/s/oKxBxb1oGW2ZsoC/download?path=%2FLanslideSimulation%2Fsaved_ReleaseAreas&files=ReleaseArea_4_3.npy' to '/home/daniel/GitProjets/open_AR_Sandbox/notebooks/tutorials/07_LandslideSimulation/saved_ReleaseAreas'.\n",
      "100%|█████████████████████████████████████████| 192/192 [00:00<00:00, 32.3kB/s]\n",
      "Downloading file 'Sim_Topo0_Rel01_results4sandbox.npz' from 'https://rwth-aachen.sciebo.de/s/oKxBxb1oGW2ZsoC/download?path=%2FLanslideSimulation%2Fsimulation_data&files=Sim_Topo0_Rel01_results4sandbox.npz' to '/home/daniel/GitProjets/open_AR_Sandbox/notebooks/tutorials/07_LandslideSimulation/simulation_data'.\n",
      "100%|█████████████████████████████████████| 15.4M/15.4M [00:00<00:00, 1.94GB/s]\n",
      "Downloading file 'Sim_Topo1_Rel11_results4sandbox.npz' from 'https://rwth-aachen.sciebo.de/s/oKxBxb1oGW2ZsoC/download?path=%2FLanslideSimulation%2Fsimulation_data&files=Sim_Topo1_Rel11_results4sandbox.npz' to '/home/daniel/GitProjets/open_AR_Sandbox/notebooks/tutorials/07_LandslideSimulation/simulation_data'.\n",
      "100%|██████████████████████████████████████| 8.64M/8.64M [00:00<00:00, 809MB/s]\n",
      "Downloading file 'Sim_Topo1_Rel12_results4sandbox.npz' from 'https://rwth-aachen.sciebo.de/s/oKxBxb1oGW2ZsoC/download?path=%2FLanslideSimulation%2Fsimulation_data&files=Sim_Topo1_Rel12_results4sandbox.npz' to '/home/daniel/GitProjets/open_AR_Sandbox/notebooks/tutorials/07_LandslideSimulation/simulation_data'.\n",
      "100%|██████████████████████████████████████| 10.1M/10.1M [00:00<00:00, 624MB/s]\n",
      "Downloading file 'Sim_Topo1_Rel13_results4sandbox.npz' from 'https://rwth-aachen.sciebo.de/s/oKxBxb1oGW2ZsoC/download?path=%2FLanslideSimulation%2Fsimulation_data&files=Sim_Topo1_Rel13_results4sandbox.npz' to '/home/daniel/GitProjets/open_AR_Sandbox/notebooks/tutorials/07_LandslideSimulation/simulation_data'.\n",
      "100%|██████████████████████████████████████| 5.76M/5.76M [00:00<00:00, 721MB/s]\n",
      "Downloading file 'Sim_Topo2_Rel21_results4sandbox.npz' from 'https://rwth-aachen.sciebo.de/s/oKxBxb1oGW2ZsoC/download?path=%2FLanslideSimulation%2Fsimulation_data&files=Sim_Topo2_Rel21_results4sandbox.npz' to '/home/daniel/GitProjets/open_AR_Sandbox/notebooks/tutorials/07_LandslideSimulation/simulation_data'.\n"
     ]
    },
    {
     "name": "stderr",
     "output_type": "stream",
     "text": [
      "100%|██████████████████████████████████████| 6.24M/6.24M [00:00<00:00, 904MB/s]\n",
      "Downloading file 'Sim_Topo2_Rel22_results4sandbox.npz' from 'https://rwth-aachen.sciebo.de/s/oKxBxb1oGW2ZsoC/download?path=%2FLanslideSimulation%2Fsimulation_data&files=Sim_Topo2_Rel22_results4sandbox.npz' to '/home/daniel/GitProjets/open_AR_Sandbox/notebooks/tutorials/07_LandslideSimulation/simulation_data'.\n",
      "100%|█████████████████████████████████████| 10.1M/10.1M [00:00<00:00, 1.71GB/s]\n",
      "Downloading file 'Sim_Topo2_Rel23_results4sandbox.npz' from 'https://rwth-aachen.sciebo.de/s/oKxBxb1oGW2ZsoC/download?path=%2FLanslideSimulation%2Fsimulation_data&files=Sim_Topo2_Rel23_results4sandbox.npz' to '/home/daniel/GitProjets/open_AR_Sandbox/notebooks/tutorials/07_LandslideSimulation/simulation_data'.\n",
      "100%|█████████████████████████████████████| 8.64M/8.64M [00:00<00:00, 1.23GB/s]\n",
      "Downloading file 'Sim_Topo3_Rel31_results4sandbox.npz' from 'https://rwth-aachen.sciebo.de/s/oKxBxb1oGW2ZsoC/download?path=%2FLanslideSimulation%2Fsimulation_data&files=Sim_Topo3_Rel31_results4sandbox.npz' to '/home/daniel/GitProjets/open_AR_Sandbox/notebooks/tutorials/07_LandslideSimulation/simulation_data'.\n",
      "100%|█████████████████████████████████████| 7.20M/7.20M [00:00<00:00, 1.21GB/s]\n",
      "Downloading file 'Sim_Topo3_Rel32_results4sandbox.npz' from 'https://rwth-aachen.sciebo.de/s/oKxBxb1oGW2ZsoC/download?path=%2FLanslideSimulation%2Fsimulation_data&files=Sim_Topo3_Rel32_results4sandbox.npz' to '/home/daniel/GitProjets/open_AR_Sandbox/notebooks/tutorials/07_LandslideSimulation/simulation_data'.\n",
      "100%|█████████████████████████████████████| 9.12M/9.12M [00:00<00:00, 1.75GB/s]\n",
      "Downloading file 'Sim_Topo3_Rel33_results4sandbox.npz' from 'https://rwth-aachen.sciebo.de/s/oKxBxb1oGW2ZsoC/download?path=%2FLanslideSimulation%2Fsimulation_data&files=Sim_Topo3_Rel33_results4sandbox.npz' to '/home/daniel/GitProjets/open_AR_Sandbox/notebooks/tutorials/07_LandslideSimulation/simulation_data'.\n",
      "100%|█████████████████████████████████████| 7.68M/7.68M [00:00<00:00, 1.39GB/s]\n",
      "Downloading file 'Sim_Topo4_Rel41_results4sandbox.npz' from 'https://rwth-aachen.sciebo.de/s/oKxBxb1oGW2ZsoC/download?path=%2FLanslideSimulation%2Fsimulation_data&files=Sim_Topo4_Rel41_results4sandbox.npz' to '/home/daniel/GitProjets/open_AR_Sandbox/notebooks/tutorials/07_LandslideSimulation/simulation_data'.\n",
      "100%|█████████████████████████████████████| 9.12M/9.12M [00:00<00:00, 1.13GB/s]\n",
      "Downloading file 'Sim_Topo4_Rel42_results4sandbox.npz' from 'https://rwth-aachen.sciebo.de/s/oKxBxb1oGW2ZsoC/download?path=%2FLanslideSimulation%2Fsimulation_data&files=Sim_Topo4_Rel42_results4sandbox.npz' to '/home/daniel/GitProjets/open_AR_Sandbox/notebooks/tutorials/07_LandslideSimulation/simulation_data'.\n",
      "100%|██████████████████████████████████████| 7.68M/7.68M [00:00<00:00, 890MB/s]\n",
      "Downloading file 'Sim_Topo4_Rel43_results4sandbox.npz' from 'https://rwth-aachen.sciebo.de/s/oKxBxb1oGW2ZsoC/download?path=%2FLanslideSimulation%2Fsimulation_data&files=Sim_Topo4_Rel43_results4sandbox.npz' to '/home/daniel/GitProjets/open_AR_Sandbox/notebooks/tutorials/07_LandslideSimulation/simulation_data'.\n",
      "100%|█████████████████████████████████████| 11.5M/11.5M [00:00<00:00, 1.95GB/s]"
     ]
    },
    {
     "name": "stdout",
     "output_type": "stream",
     "text": [
      "\u001b[32msandbox.utils.download_sample_datasets: INFO\u001b[0m | Data for landslides downloaded\n"
     ]
    },
    {
     "name": "stderr",
     "output_type": "stream",
     "text": [
      "\n"
     ]
    }
   ],
   "source": [
    "print('Available landslide data: {}'.format(landslides_dems))\n",
    "\n",
    "download_landslides_data()"
   ]
  },
  {
   "cell_type": "code",
   "execution_count": 6,
   "metadata": {
    "pycharm": {
     "name": "#%%\n"
    },
    "scrolled": true
   },
   "outputs": [
    {
     "name": "stdout",
     "output_type": "stream",
     "text": [
      "Available benisson model: ['Benisson_04_elev_contours.dbf', 'Benisson_04_elev_contours.prj', 'Benisson_04_elev_contours.shp', 'Benisson_04_elev_contours.shx', 'Benisson_Map_04.png', 'extent.dbf', 'extent.prj', 'extent.shp', 'extent.shx', 'interfaces_point.dbf', 'interfaces_point.prj', 'interfaces_point.shp', 'interfaces_point.shx', 'orientation.dbf', 'orientation.prj', 'orientation.shp', 'orientation.shx']\n",
      "\u001b[32msandbox.utils.download_sample_datasets: INFO\u001b[0m | Pooch created for url: https://rwth-aachen.sciebo.de/s/oKxBxb1oGW2ZsoC/download?path=%2FGempy%2FBenisson_model&files=\n"
     ]
    },
    {
     "name": "stderr",
     "output_type": "stream",
     "text": [
      "Downloading file 'Benisson_04_elev_contours.dbf' from 'https://rwth-aachen.sciebo.de/s/oKxBxb1oGW2ZsoC/download?path=%2FGempy%2FBenisson_model&files=Benisson_04_elev_contours.dbf' to '/home/daniel/GitProjets/open_AR_Sandbox/notebooks/tutorials/04_GempyModule/Model_Construction/Bennisson_model/data'.\n",
      "100%|██████████████████████████████████████████| 408/408 [00:00<00:00, 104kB/s]\n",
      "Downloading file 'Benisson_04_elev_contours.prj' from 'https://rwth-aachen.sciebo.de/s/oKxBxb1oGW2ZsoC/download?path=%2FGempy%2FBenisson_model&files=Benisson_04_elev_contours.prj' to '/home/daniel/GitProjets/open_AR_Sandbox/notebooks/tutorials/04_GempyModule/Model_Construction/Bennisson_model/data'.\n",
      "100%|█████████████████████████████████████████| 143/143 [00:00<00:00, 20.9kB/s]\n",
      "Downloading file 'Benisson_04_elev_contours.shp' from 'https://rwth-aachen.sciebo.de/s/oKxBxb1oGW2ZsoC/download?path=%2FGempy%2FBenisson_model&files=Benisson_04_elev_contours.shp' to '/home/daniel/GitProjets/open_AR_Sandbox/notebooks/tutorials/04_GempyModule/Model_Construction/Bennisson_model/data'.\n",
      "100%|██████████████████████████████████████| 3.73k/3.73k [00:00<00:00, 607kB/s]\n",
      "Downloading file 'Benisson_04_elev_contours.shx' from 'https://rwth-aachen.sciebo.de/s/oKxBxb1oGW2ZsoC/download?path=%2FGempy%2FBenisson_model&files=Benisson_04_elev_contours.shx' to '/home/daniel/GitProjets/open_AR_Sandbox/notebooks/tutorials/04_GempyModule/Model_Construction/Bennisson_model/data'.\n",
      "100%|█████████████████████████████████████████| 180/180 [00:00<00:00, 10.9kB/s]\n",
      "Downloading file 'Benisson_Map_04.png' from 'https://rwth-aachen.sciebo.de/s/oKxBxb1oGW2ZsoC/download?path=%2FGempy%2FBenisson_model&files=Benisson_Map_04.png' to '/home/daniel/GitProjets/open_AR_Sandbox/notebooks/tutorials/04_GempyModule/Model_Construction/Bennisson_model/data'.\n",
      "100%|██████████████████████████████████████| 1.20M/1.20M [00:00<00:00, 197MB/s]\n",
      "Downloading file 'extent.dbf' from 'https://rwth-aachen.sciebo.de/s/oKxBxb1oGW2ZsoC/download?path=%2FGempy%2FBenisson_model&files=extent.dbf' to '/home/daniel/GitProjets/open_AR_Sandbox/notebooks/tutorials/04_GempyModule/Model_Construction/Bennisson_model/data'.\n",
      "100%|███████████████████████████████████████| 77.0/77.0 [00:00<00:00, 9.16kB/s]\n",
      "Downloading file 'extent.prj' from 'https://rwth-aachen.sciebo.de/s/oKxBxb1oGW2ZsoC/download?path=%2FGempy%2FBenisson_model&files=extent.prj' to '/home/daniel/GitProjets/open_AR_Sandbox/notebooks/tutorials/04_GempyModule/Model_Construction/Bennisson_model/data'.\n",
      "100%|█████████████████████████████████████████| 145/145 [00:00<00:00, 25.8kB/s]\n",
      "Downloading file 'extent.shp' from 'https://rwth-aachen.sciebo.de/s/oKxBxb1oGW2ZsoC/download?path=%2FGempy%2FBenisson_model&files=extent.shp' to '/home/daniel/GitProjets/open_AR_Sandbox/notebooks/tutorials/04_GempyModule/Model_Construction/Bennisson_model/data'.\n",
      "100%|█████████████████████████████████████████| 236/236 [00:00<00:00, 10.7kB/s]\n",
      "Downloading file 'extent.shx' from 'https://rwth-aachen.sciebo.de/s/oKxBxb1oGW2ZsoC/download?path=%2FGempy%2FBenisson_model&files=extent.shx' to '/home/daniel/GitProjets/open_AR_Sandbox/notebooks/tutorials/04_GempyModule/Model_Construction/Bennisson_model/data'.\n",
      "100%|█████████████████████████████████████████| 108/108 [00:00<00:00, 13.0kB/s]\n",
      "Downloading file 'interfaces_point.dbf' from 'https://rwth-aachen.sciebo.de/s/oKxBxb1oGW2ZsoC/download?path=%2FGempy%2FBenisson_model&files=interfaces_point.dbf' to '/home/daniel/GitProjets/open_AR_Sandbox/notebooks/tutorials/04_GempyModule/Model_Construction/Bennisson_model/data'.\n",
      "100%|██████████████████████████████████████| 1.46k/1.46k [00:00<00:00, 155kB/s]\n",
      "Downloading file 'interfaces_point.prj' from 'https://rwth-aachen.sciebo.de/s/oKxBxb1oGW2ZsoC/download?path=%2FGempy%2FBenisson_model&files=interfaces_point.prj' to '/home/daniel/GitProjets/open_AR_Sandbox/notebooks/tutorials/04_GempyModule/Model_Construction/Bennisson_model/data'.\n",
      "100%|█████████████████████████████████████████| 145/145 [00:00<00:00, 7.08kB/s]\n",
      "Downloading file 'interfaces_point.shp' from 'https://rwth-aachen.sciebo.de/s/oKxBxb1oGW2ZsoC/download?path=%2FGempy%2FBenisson_model&files=interfaces_point.shp' to '/home/daniel/GitProjets/open_AR_Sandbox/notebooks/tutorials/04_GempyModule/Model_Construction/Bennisson_model/data'.\n",
      "100%|█████████████████████████████████████████| 520/520 [00:00<00:00, 56.2kB/s]\n",
      "Downloading file 'interfaces_point.shx' from 'https://rwth-aachen.sciebo.de/s/oKxBxb1oGW2ZsoC/download?path=%2FGempy%2FBenisson_model&files=interfaces_point.shx' to '/home/daniel/GitProjets/open_AR_Sandbox/notebooks/tutorials/04_GempyModule/Model_Construction/Bennisson_model/data'.\n",
      "100%|█████████████████████████████████████████| 220/220 [00:00<00:00, 17.1kB/s]\n",
      "Downloading file 'orientation.dbf' from 'https://rwth-aachen.sciebo.de/s/oKxBxb1oGW2ZsoC/download?path=%2FGempy%2FBenisson_model&files=orientation.dbf' to '/home/daniel/GitProjets/open_AR_Sandbox/notebooks/tutorials/04_GempyModule/Model_Construction/Bennisson_model/data'.\n",
      "100%|█████████████████████████████████████████| 332/332 [00:00<00:00, 33.1kB/s]\n",
      "Downloading file 'orientation.prj' from 'https://rwth-aachen.sciebo.de/s/oKxBxb1oGW2ZsoC/download?path=%2FGempy%2FBenisson_model&files=orientation.prj' to '/home/daniel/GitProjets/open_AR_Sandbox/notebooks/tutorials/04_GempyModule/Model_Construction/Bennisson_model/data'.\n",
      "100%|█████████████████████████████████████████| 145/145 [00:00<00:00, 18.7kB/s]\n",
      "Downloading file 'orientation.shp' from 'https://rwth-aachen.sciebo.de/s/oKxBxb1oGW2ZsoC/download?path=%2FGempy%2FBenisson_model&files=orientation.shp' to '/home/daniel/GitProjets/open_AR_Sandbox/notebooks/tutorials/04_GempyModule/Model_Construction/Bennisson_model/data'.\n",
      "100%|█████████████████████████████████████████| 276/276 [00:00<00:00, 20.0kB/s]\n",
      "Downloading file 'orientation.shx' from 'https://rwth-aachen.sciebo.de/s/oKxBxb1oGW2ZsoC/download?path=%2FGempy%2FBenisson_model&files=orientation.shx' to '/home/daniel/GitProjets/open_AR_Sandbox/notebooks/tutorials/04_GempyModule/Model_Construction/Bennisson_model/data'.\n",
      "100%|█████████████████████████████████████████| 116/116 [00:00<00:00, 11.0kB/s]"
     ]
    },
    {
     "name": "stdout",
     "output_type": "stream",
     "text": [
      "\u001b[32msandbox.utils.download_sample_datasets: INFO\u001b[0m | Data for benisson model downloaded\n"
     ]
    },
    {
     "name": "stderr",
     "output_type": "stream",
     "text": [
      "\n"
     ]
    }
   ],
   "source": [
    "print('Available benisson model: {}'.format(gempy_benisson))\n",
    "\n",
    "download_benisson_model()"
   ]
  },
  {
   "cell_type": "code",
   "execution_count": 8,
   "metadata": {
    "pycharm": {
     "name": "#%%\n"
    }
   },
   "outputs": [
    {
     "name": "stdout",
     "output_type": "stream",
     "text": [
      "Available Landscape trained models: ['Aletsch_1k', 'Aletsch_5k', 'AletschWin_3k', 'AletschWin_10k', 'Allgaeu_5k', 'AllgaeuSum_10k', 'AlpsSum1_1k', 'AlpsSum1_5k', 'AlpsSum1_10k', 'AlpsSum_3k', 'BernSum_5k', 'BernSum_10k', 'BernWin_5k', 'BernWin_10k']\n",
      "\u001b[32msandbox.utils.download_sample_datasets: INFO\u001b[0m | Pooch created for url: https://rwth-aachen.sciebo.de/s/oKxBxb1oGW2ZsoC/download?path=%2FLandscapeGeneration%2FAletsch_1k&files=\n"
     ]
    },
    {
     "name": "stderr",
     "output_type": "stream",
     "text": [
      "Downloading file 'latest_net_D.pth' from 'https://rwth-aachen.sciebo.de/s/oKxBxb1oGW2ZsoC/download?path=%2FLandscapeGeneration%2FAletsch_1k&files=latest_net_D.pth' to '/home/daniel/GitProjets/open_AR_Sandbox/notebooks/tutorials/09_LandscapeGeneration/checkpoints/Aletsch_1k'.\n",
      "100%|█████████████████████████████████████| 11.1M/11.1M [00:00<00:00, 1.43GB/s]\n",
      "Downloading file 'latest_net_G.pth' from 'https://rwth-aachen.sciebo.de/s/oKxBxb1oGW2ZsoC/download?path=%2FLandscapeGeneration%2FAletsch_1k&files=latest_net_G.pth' to '/home/daniel/GitProjets/open_AR_Sandbox/notebooks/tutorials/09_LandscapeGeneration/checkpoints/Aletsch_1k'.\n",
      "100%|███████████████████████████████████████| 218M/218M [00:00<00:00, 41.4GB/s]\n",
      "Downloading file 'loss_log.txt' from 'https://rwth-aachen.sciebo.de/s/oKxBxb1oGW2ZsoC/download?path=%2FLandscapeGeneration%2FAletsch_1k&files=loss_log.txt' to '/home/daniel/GitProjets/open_AR_Sandbox/notebooks/tutorials/09_LandscapeGeneration/checkpoints/Aletsch_1k'.\n",
      "0.00B [00:00, ?B/s]\n",
      "Downloading file 'test_opt.txt' from 'https://rwth-aachen.sciebo.de/s/oKxBxb1oGW2ZsoC/download?path=%2FLandscapeGeneration%2FAletsch_1k&files=test_opt.txt' to '/home/daniel/GitProjets/open_AR_Sandbox/notebooks/tutorials/09_LandscapeGeneration/checkpoints/Aletsch_1k'.\n",
      "0.00B [00:00, ?B/s]\n",
      "Downloading file 'train_opt.txt' from 'https://rwth-aachen.sciebo.de/s/oKxBxb1oGW2ZsoC/download?path=%2FLandscapeGeneration%2FAletsch_1k&files=train_opt.txt' to '/home/daniel/GitProjets/open_AR_Sandbox/notebooks/tutorials/09_LandscapeGeneration/checkpoints/Aletsch_1k'.\n",
      "0.00B [00:00, ?B/s]"
     ]
    },
    {
     "name": "stdout",
     "output_type": "stream",
     "text": [
      "\u001b[32msandbox.utils.download_sample_datasets: INFO\u001b[0m | Model Aletsch_1k downloaded for landscape generation\n"
     ]
    },
    {
     "name": "stderr",
     "output_type": "stream",
     "text": [
      "\n"
     ]
    }
   ],
   "source": [
    "print('Available Landscape trained models: {}'.format(landscape_models))\n",
    "\n",
    "download_landscape_name(name_model=landscape_models[0])"
   ]
  },
  {
   "cell_type": "markdown",
   "metadata": {
    "pycharm": {
     "name": "#%% md\n"
    }
   },
   "source": [
    "You can also download all the models without specifiying the name."
   ]
  },
  {
   "cell_type": "code",
   "execution_count": null,
   "metadata": {
    "pycharm": {
     "name": "#%%\n"
    }
   },
   "outputs": [],
   "source": [
    "download_landscape_all()"
   ]
  }
 ],
 "metadata": {
  "kernelspec": {
   "display_name": "Python 3 (ipykernel)",
   "language": "python",
   "name": "python3"
  },
  "language_info": {
   "codemirror_mode": {
    "name": "ipython",
    "version": 3
   },
   "file_extension": ".py",
   "mimetype": "text/x-python",
   "name": "python",
   "nbconvert_exporter": "python",
   "pygments_lexer": "ipython3",
   "version": "3.7.12"
  }
 },
 "nbformat": 4,
 "nbformat_minor": 1
}
