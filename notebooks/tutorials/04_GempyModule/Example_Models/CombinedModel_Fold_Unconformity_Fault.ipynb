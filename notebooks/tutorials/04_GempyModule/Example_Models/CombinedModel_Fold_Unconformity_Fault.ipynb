{
 "cells": [
  {
   "cell_type": "markdown",
   "metadata": {},
   "source": [
    "\n",
    "Combination\n",
    "======================\n",
    "\n",
    "### A folded domain featuring an unconformity and a fault. We start by importing\n"
   ]
  },
  {
   "cell_type": "code",
   "execution_count": null,
   "metadata": {
    "scrolled": true
   },
   "outputs": [],
   "source": [
    "# the necessary dependencies:\n",
    "# Importing GemPy\n",
    "import sys, os"
   ]
  },
  {
   "cell_type": "code",
   "execution_count": null,
   "metadata": {},
   "outputs": [],
   "source": [
    "#Run this cell only if you want to run gempy in cuda mode (requires cuda and a dedicated cpu).\n",
    "#Initial compilation will take a bit longer but the model will run much faster \n",
    "os.environ[\"THEANO_FLAGS\"] = \"mode=FAST_RUN,device=cuda\""
   ]
  },
  {
   "cell_type": "code",
   "execution_count": null,
   "metadata": {},
   "outputs": [],
   "source": [
    "import gempy as gp\n",
    "import pandas as pd"
   ]
  },
  {
   "cell_type": "markdown",
   "metadata": {},
   "source": [
    "### Creating the model by importing the input data and displaying it:\n"
   ]
  },
  {
   "cell_type": "code",
   "execution_count": null,
   "metadata": {},
   "outputs": [],
   "source": [
    "# %%\n",
    "from sandbox import _test_data\n",
    "#data_path = 'https://raw.githubusercontent.com/cgre-aachen/gempy_data/master/'\n",
    "#path_to_data = data_path + \"/data/input_data/jan_models/\"\n",
    "path_to_data = _test_data.get('gempy_example_data')\n",
    "\n",
    "geo_data = gp.create_data('combination',\n",
    "                          extent=[0, 2500, 0, 1000, 100, 1200],\n",
    "                          resolution=[50, 50, 50],\n",
    "                          path_o=path_to_data + \"model7_orientations.csv\",\n",
    "                          path_i=path_to_data + \"model7_surface_points.csv\")\n",
    "\n",
    "# %%\n",
    "geo_data.get_data()"
   ]
  },
  {
   "cell_type": "code",
   "execution_count": null,
   "metadata": {},
   "outputs": [],
   "source": [
    "# Setting and ordering the units and series:\n",
    "gp.map_stack_to_surfaces(geo_data, {\"Fault_Series\": ('fault'), \"Strat_Series1\": ('rock3'),\n",
    "                                     \"Strat_Series2\": ('rock2','rock1'),\n",
    "                                     \"Basement_Series\":('basement')})\n",
    "\n",
    "geo_data.set_is_fault(['Fault_Series'])\n",
    "\n",
    "# Plot Data\n",
    "gp.plot_2d(geo_data, direction='y')"
   ]
  },
  {
   "cell_type": "markdown",
   "metadata": {},
   "source": [
    "### Calculating the model:\n"
   ]
  },
  {
   "cell_type": "code",
   "execution_count": null,
   "metadata": {},
   "outputs": [],
   "source": [
    "interp_data = gp.set_interpolator(geo_data, theano_optimizer='fast_run')\n",
    "\n",
    "sol = gp.compute_model(geo_data)"
   ]
  },
  {
   "cell_type": "code",
   "execution_count": null,
   "metadata": {},
   "outputs": [],
   "source": [
    "%%timeit\n",
    "sol = gp.compute_model(geo_data)"
   ]
  },
  {
   "cell_type": "code",
   "execution_count": null,
   "metadata": {},
   "outputs": [],
   "source": []
  },
  {
   "cell_type": "markdown",
   "metadata": {},
   "source": [
    "### Displaying the result:\n",
    "<div class=\"alert alert-warning\">\n",
    "\n",
    "**Warning:** The sandbox thread is faster when smaller resolution is used, but the cross-sections can look ugly or not understandable at all\n",
    "\n",
    "</div>\n",
    "\n"
   ]
  },
  {
   "cell_type": "code",
   "execution_count": null,
   "metadata": {},
   "outputs": [],
   "source": [
    " #x direction:\n",
    "gp.plot_2d(geo_data, cell_number=5,\n",
    "           direction='y', show_data=False, show_boundaries=True)\n",
    "\n",
    "# y direction:\n",
    "gp.plot_2d(geo_data, cell_number=5,\n",
    "           direction='x', show_data=True)"
   ]
  },
  {
   "cell_type": "code",
   "execution_count": null,
   "metadata": {},
   "outputs": [],
   "source": [
    "# 3d view\n",
    "gp.plot_3d(geo_data, image=False, show_topography=True, plotter_type='basic', notebook=True, show_lith=True)"
   ]
  },
  {
   "cell_type": "markdown",
   "metadata": {},
   "source": [
    "## Initialize Sensor and Projector"
   ]
  },
  {
   "cell_type": "code",
   "execution_count": null,
   "metadata": {},
   "outputs": [],
   "source": [
    "#save the paths to the calibration files \n",
    "from sandbox import _calibration_dir\n",
    "_calibprojector = _calibration_dir + \"my_projector_calibration.json\"\n",
    "_calibsensor = _calibration_dir + \"my_sensor_calibration.json\""
   ]
  },
  {
   "cell_type": "code",
   "execution_count": null,
   "metadata": {},
   "outputs": [],
   "source": [
    "#Import Sensor\n",
    "from sandbox.sensor import Sensor\n",
    "sensor = Sensor(calibsensor=_calibsensor, name=\"dummy\")"
   ]
  },
  {
   "cell_type": "code",
   "execution_count": null,
   "metadata": {},
   "outputs": [],
   "source": [
    "# Import projector\n",
    "from sandbox.projector import Projector\n",
    "projector = Projector(calibprojector=_calibprojector)"
   ]
  },
  {
   "cell_type": "code",
   "execution_count": null,
   "metadata": {},
   "outputs": [],
   "source": [
    "#Initialize the aruco detection\n",
    "from sandbox.markers import MarkerDetection\n",
    "aruco = MarkerDetection(sensor=sensor)"
   ]
  },
  {
   "cell_type": "code",
   "execution_count": null,
   "metadata": {},
   "outputs": [],
   "source": [
    "from sandbox.main_thread import MainThread\n",
    "main = MainThread(sensor=sensor, projector=projector, aruco=aruco)"
   ]
  },
  {
   "cell_type": "code",
   "execution_count": null,
   "metadata": {},
   "outputs": [],
   "source": [
    "# Start the thread \n",
    "main.run()"
   ]
  },
  {
   "cell_type": "code",
   "execution_count": null,
   "metadata": {
    "scrolled": false
   },
   "outputs": [],
   "source": [
    "main.widget_plot_module()"
   ]
  },
  {
   "cell_type": "markdown",
   "metadata": {},
   "source": [
    "## Initialize the gempy module "
   ]
  },
  {
   "cell_type": "code",
   "execution_count": null,
   "metadata": {},
   "outputs": [],
   "source": [
    "from sandbox.modules.gempy import GemPyModule\n",
    "gpsb= GemPyModule(geo_model = geo_data, \n",
    "                  extent = sensor.extent, \n",
    "                  box=sensor.physical_dimensions, \n",
    "                  load_examples = False,\n",
    "                 )"
   ]
  },
  {
   "cell_type": "code",
   "execution_count": null,
   "metadata": {},
   "outputs": [],
   "source": [
    "main.add_module(name='gempy', module=gpsb)"
   ]
  },
  {
   "cell_type": "code",
   "execution_count": null,
   "metadata": {},
   "outputs": [],
   "source": [
    "#Turn on Hill Shading\n",
    "gpsb.show_hillshades = True\n",
    "gpsb.show_lith = True\n",
    "gpsb.show_boundary = True\n",
    "gpsb.show_hillshades = False\n",
    "gpsb.show_contour = False\n",
    "gpsb.show_only_faults = False\n",
    "gpsb.show_fill_contour = False"
   ]
  },
  {
   "cell_type": "code",
   "execution_count": null,
   "metadata": {},
   "outputs": [],
   "source": [
    "\n",
    "\n",
    "\n",
    "\n",
    "main.stop()"
   ]
  }
 ],
 "metadata": {
  "kernelspec": {
   "display_name": "Python 3 (ipykernel)",
   "language": "python",
   "name": "python3"
  },
  "language_info": {
   "codemirror_mode": {
    "name": "ipython",
    "version": 3
   },
   "file_extension": ".py",
   "mimetype": "text/x-python",
   "name": "python",
   "nbconvert_exporter": "python",
   "pygments_lexer": "ipython3",
   "version": "3.7.12"
  }
 },
 "nbformat": 4,
 "nbformat_minor": 4
}
